{
 "cells": [
  {
   "cell_type": "code",
   "execution_count": 1,
   "id": "61a991ef-5347-441a-8732-4bef3f3543c6",
   "metadata": {},
   "outputs": [],
   "source": [
    "#We can store a single quote (') as a string in a variable by writing some words, sentences which are stored in a single quote(') as a string.\n",
    "#This is for answer 1."
   ]
  },
  {
   "cell_type": "code",
   "execution_count": 2,
   "id": "de95ed05-5740-45ab-97fc-fbb7d047a01c",
   "metadata": {},
   "outputs": [],
   "source": [
    "#Here x is a string type variable.It is because x stores the string a which is in the single semi-colon which is of string type variable.\n",
    "#This is for answer 2."
   ]
  },
  {
   "cell_type": "code",
   "execution_count": 3,
   "id": "697f1639-9ac6-4b44-90cc-86b52d78da88",
   "metadata": {},
   "outputs": [],
   "source": [
    "a='Welcome to Python foundation course'"
   ]
  },
  {
   "cell_type": "code",
   "execution_count": 4,
   "id": "c5ab86fe-89dd-40f8-ba31-fb84e591f5d4",
   "metadata": {},
   "outputs": [
    {
     "data": {
      "text/plain": [
       "1"
      ]
     },
     "execution_count": 4,
     "metadata": {},
     "output_type": "execute_result"
    }
   ],
   "source": [
    "a.find('e')"
   ]
  },
  {
   "cell_type": "code",
   "execution_count": 7,
   "id": "e257a868-fd07-4950-8a1d-b2ed67e2d388",
   "metadata": {},
   "outputs": [
    {
     "data": {
      "text/plain": [
       "6"
      ]
     },
     "execution_count": 7,
     "metadata": {},
     "output_type": "execute_result"
    }
   ],
   "source": [
    "a.count('o')"
   ]
  },
  {
   "cell_type": "code",
   "execution_count": 10,
   "id": "705edd74-94aa-48b5-a2eb-7aa262280837",
   "metadata": {},
   "outputs": [
    {
     "data": {
      "text/plain": [
       "35"
      ]
     },
     "execution_count": 10,
     "metadata": {},
     "output_type": "execute_result"
    }
   ],
   "source": [
    "len(a)"
   ]
  },
  {
   "cell_type": "code",
   "execution_count": 13,
   "id": "4c3184b9-ff64-4f04-b710-41d37dd7a92a",
   "metadata": {},
   "outputs": [],
   "source": [
    "b='Welcome to Python'"
   ]
  },
  {
   "cell_type": "code",
   "execution_count": 16,
   "id": "b97efecb-e826-4683-96be-ad8fde1cf303",
   "metadata": {},
   "outputs": [],
   "source": [
    "concatenate=a+b"
   ]
  },
  {
   "cell_type": "code",
   "execution_count": 17,
   "id": "7c5ac9d5-dbba-49f3-b1c7-dd5eeab1fa17",
   "metadata": {},
   "outputs": [
    {
     "data": {
      "text/plain": [
       "'Welcome to Python foundation courseWelcome to Python'"
      ]
     },
     "execution_count": 17,
     "metadata": {},
     "output_type": "execute_result"
    }
   ],
   "source": [
    "concatenate"
   ]
  },
  {
   "cell_type": "code",
   "execution_count": 18,
   "id": "96811831-87b9-4042-9f28-f175fed575cf",
   "metadata": {},
   "outputs": [],
   "source": [
    "#This is for answer 3."
   ]
  },
  {
   "cell_type": "code",
   "execution_count": 38,
   "id": "de4576fc-7dcf-42ff-b35d-565587bfec88",
   "metadata": {},
   "outputs": [],
   "source": [
    "x='PanaJi@12256'"
   ]
  },
  {
   "cell_type": "code",
   "execution_count": 39,
   "id": "a3096ecb-458f-4155-8369-0c0deac5fe94",
   "metadata": {},
   "outputs": [
    {
     "data": {
      "text/plain": [
       "4"
      ]
     },
     "execution_count": 39,
     "metadata": {},
     "output_type": "execute_result"
    }
   ],
   "source": [
    "4 #For total number of alphabets in lowercase"
   ]
  },
  {
   "cell_type": "code",
   "execution_count": 40,
   "id": "034304b0-7c43-4574-9dba-bbd070707eb0",
   "metadata": {},
   "outputs": [
    {
     "data": {
      "text/plain": [
       "2"
      ]
     },
     "execution_count": 40,
     "metadata": {},
     "output_type": "execute_result"
    }
   ],
   "source": [
    "2 #For total number of alphabets in uppercase"
   ]
  },
  {
   "cell_type": "code",
   "execution_count": 41,
   "id": "745ea7b7-2486-4e66-aa43-604daffe5561",
   "metadata": {},
   "outputs": [
    {
     "data": {
      "text/plain": [
       "5"
      ]
     },
     "execution_count": 41,
     "metadata": {},
     "output_type": "execute_result"
    }
   ],
   "source": [
    "5 #For total number of numerical in string"
   ]
  },
  {
   "cell_type": "code",
   "execution_count": 42,
   "id": "d4bbfb5d-0453-4913-a386-2addf2d06c9a",
   "metadata": {},
   "outputs": [],
   "source": [
    "#This is for answer 4."
   ]
  },
  {
   "cell_type": "code",
   "execution_count": 43,
   "id": "26637fc0-6975-40bf-beb8-527315b3a316",
   "metadata": {},
   "outputs": [],
   "source": [
    "a=1234"
   ]
  },
  {
   "cell_type": "code",
   "execution_count": 44,
   "id": "2ea2216e-29b3-499e-a261-7a6e2c186fd0",
   "metadata": {},
   "outputs": [
    {
     "data": {
      "text/plain": [
       "1234"
      ]
     },
     "execution_count": 44,
     "metadata": {},
     "output_type": "execute_result"
    }
   ],
   "source": [
    "a"
   ]
  },
  {
   "cell_type": "code",
   "execution_count": 45,
   "id": "95377dbf-64db-42c3-a8db-45ad4e240de0",
   "metadata": {},
   "outputs": [
    {
     "data": {
      "text/plain": [
       "'a'"
      ]
     },
     "execution_count": 45,
     "metadata": {},
     "output_type": "execute_result"
    }
   ],
   "source": [
    "str('a')"
   ]
  },
  {
   "cell_type": "code",
   "execution_count": null,
   "id": "4e83630b-e90a-46d8-87b9-0a60a7481843",
   "metadata": {},
   "outputs": [],
   "source": [
    "#This is for answer "
   ]
  }
 ],
 "metadata": {
  "kernelspec": {
   "display_name": "Python 3 (ipykernel)",
   "language": "python",
   "name": "python3"
  },
  "language_info": {
   "codemirror_mode": {
    "name": "ipython",
    "version": 3
   },
   "file_extension": ".py",
   "mimetype": "text/x-python",
   "name": "python",
   "nbconvert_exporter": "python",
   "pygments_lexer": "ipython3",
   "version": "3.10.8"
  }
 },
 "nbformat": 4,
 "nbformat_minor": 5
}
